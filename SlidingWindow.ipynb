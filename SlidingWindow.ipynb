{
 "cells": [
  {
   "cell_type": "code",
   "execution_count": 27,
   "metadata": {
    "collapsed": false,
    "deletable": true,
    "editable": true
   },
   "outputs": [
    {
     "data": {
      "text/plain": [
       "'3.2.0-dev'"
      ]
     },
     "execution_count": 27,
     "metadata": {},
     "output_type": "execute_result"
    }
   ],
   "source": [
    "import cv2\n",
    "cv2.__version__"
   ]
  },
  {
   "cell_type": "code",
   "execution_count": 28,
   "metadata": {
    "collapsed": false,
    "deletable": true,
    "editable": true
   },
   "outputs": [],
   "source": [
    "import numpy as np\n",
    "\n",
    "def sliding_windows(img, x_range, y_range, window_size, xy_overlap_percent):\n",
    "    windows = []\n",
    "    \n",
    "    x_start = x_range[0];\n",
    "    x_end = x_range[1];\n",
    "    y_start = y_range[0];\n",
    "    y_end = y_range[1];\n",
    "    \n",
    "    # check values and use full image size if parameter is not given\n",
    "    if (x_start == None):\n",
    "        x_start = 0;\n",
    "    if (x_end == None):\n",
    "        x_end = img.shape[0];\n",
    "    if (y_start == None):\n",
    "        y_start = 0;\n",
    "    if (y_end == None):\n",
    "        y_end = image.shape[1];\n",
    "        \n",
    "    # window span\n",
    "    x_span = x_end - x_start;\n",
    "    y_span = y_end - y_start;\n",
    "\n",
    "    # how much to move the window by each step\n",
    "    x_step_size = window_size[0] * (1 - xy_overlap_percent[0])\n",
    "    y_step_size = window_size[1] * (1 - xy_overlap_percent[1])\n",
    "\n",
    "    # the region that overlaps\n",
    "    x_overlap_region = window_size[0] * xy_overlap_percent[0]\n",
    "    y_overlap_region = window_size[1] * xy_overlap_percent[1]\n",
    "\n",
    "    # num of times the window fits in the span\n",
    "    x_num_steps = np.int((x_span - x_overlap_region) / x_step_size)\n",
    "    y_num_steps = np.int((y_span - y_overlap_region) / y_step_size)\n",
    "\n",
    "    for y in range(y_num_steps):\n",
    "        for x in range(x_num_steps):\n",
    "            window_start = (np.int(x * x_step_size + x_start), np.int(y * y_step_size + y_start))\n",
    "            window_end = (np.int(window_start[0] + x_step_size), np.int(window_start[1] + y_step_size))\n",
    "            windows.append((window_start, window_end))\n",
    "        \n",
    "    return windows"
   ]
  },
  {
   "cell_type": "code",
   "execution_count": 29,
   "metadata": {
    "collapsed": false
   },
   "outputs": [
    {
     "name": "stdout",
     "output_type": "stream",
     "text": [
      "('Windows Final', 195)\n"
     ]
    }
   ],
   "source": [
    "import numpy as np\n",
    "import seaborn as sns\n",
    "import matplotlib.pyplot as plt\n",
    "\n",
    "def draw_boxes(img, bboxes, color=(0, 0, 255), thick=6):\n",
    "    # Make a copy of the image\n",
    "    imcopy = np.copy(img)\n",
    "    # Iterate through the bounding boxes\n",
    "    for bbox in bboxes:\n",
    "        # Draw a rectangle given bbox coordinates\n",
    "        cv2.rectangle(imcopy, bbox[0], bbox[1], color, thick)\n",
    "    # Return the image copy with boxes drawn\n",
    "    return imcopy\n",
    "\n",
    "image = np.zeros((1280, 720, 3), dtype=np.uint8)\n",
    "windows_final = sliding_windows(image, [None, None], [400, 600], [64, 64], [0.5, 0.5])\n",
    "\n",
    "print(\"Windows Final\",len(windows_final))\n",
    "window_img = draw_boxes(image, windows_final, color=(0, 0, 255), thick=6)   \n",
    "with sns.axes_style(\"white\"):\n",
    "    plt.imshow(window_img)"
   ]
  },
  {
   "cell_type": "code",
   "execution_count": null,
   "metadata": {
    "collapsed": true
   },
   "outputs": [],
   "source": []
  },
  {
   "cell_type": "code",
   "execution_count": null,
   "metadata": {
    "collapsed": true
   },
   "outputs": [],
   "source": []
  }
 ],
 "metadata": {
  "kernelspec": {
   "display_name": "Python 2",
   "language": "python",
   "name": "python2"
  },
  "language_info": {
   "codemirror_mode": {
    "name": "ipython",
    "version": 2
   },
   "file_extension": ".py",
   "mimetype": "text/x-python",
   "name": "python",
   "nbconvert_exporter": "python",
   "pygments_lexer": "ipython2",
   "version": "2.7.13"
  }
 },
 "nbformat": 4,
 "nbformat_minor": 2
}
